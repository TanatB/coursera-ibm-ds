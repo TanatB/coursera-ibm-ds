{
 "cells": [
  {
   "cell_type": "markdown",
   "id": "bafe3b7a-28dd-4e36-b9e9-d3ff076d5672",
   "metadata": {},
   "source": [
    "# Data Science Tools and Ecosystem"
   ]
  },
  {
   "cell_type": "markdown",
   "id": "d7b753f4-6749-423a-8462-901a520cb18c",
   "metadata": {},
   "source": [
    "In this notebook, Data Science Tools and Ecosystem are summarized."
   ]
  },
  {
   "cell_type": "markdown",
   "id": "46297fbb-6f9b-45ba-bdba-2e64bdc7cd1a",
   "metadata": {},
   "source": [
    "Some of the popular languages that Data Scientists use are:\n",
    "1. Python\n",
    "2. SQL\n",
    "3. R"
   ]
  },
  {
   "cell_type": "markdown",
   "id": "e8ef7e17-feda-4f36-8bb2-1faa201928df",
   "metadata": {},
   "source": [
    "Some of the commonly used libraries used by Data Scientists include:\n",
    "1. pandas\n",
    "2. TensorFlow\n",
    "3. Keras"
   ]
  },
  {
   "cell_type": "markdown",
   "id": "8c582391-e203-4f5f-b0b5-b7508d1c7b06",
   "metadata": {},
   "source": [
    "| Data Science Tools |\n",
    "---"
   ]
  },
  {
   "cell_type": "markdown",
   "id": "93fe773f-1baf-4b45-a643-cb2225219c12",
   "metadata": {},
   "source": [
    "### Below are a few examples of evaluating arithmetic expressions in Python"
   ]
  },
  {
   "cell_type": "code",
   "execution_count": 9,
   "id": "e784d4a4-90b8-459f-b44a-f4153e3a4b74",
   "metadata": {},
   "outputs": [
    {
     "data": {
      "text/plain": [
       "17"
      ]
     },
     "execution_count": 9,
     "metadata": {},
     "output_type": "execute_result"
    }
   ],
   "source": [
    "# This a simple arithmetic expression to multiply and then add integers.\n",
    "(3*4)+5"
   ]
  },
  {
   "cell_type": "code",
   "execution_count": 11,
   "id": "e4773270-b26d-4537-bed6-10b0734bf8bd",
   "metadata": {},
   "outputs": [
    {
     "data": {
      "text/plain": [
       "3.3333333333333335"
      ]
     },
     "execution_count": 11,
     "metadata": {},
     "output_type": "execute_result"
    }
   ],
   "source": [
    "# This will convert 200 minutes to hours by dividing by 60\n",
    "200 / 60"
   ]
  },
  {
   "cell_type": "markdown",
   "id": "6a9fad91-4ac4-4853-8ae2-43efc60f6627",
   "metadata": {},
   "source": [
    "__Objectives:__\n",
    "- Python\n",
    "- SQL\n",
    "- R\n",
    "- HTML\n",
    "- Javascript"
   ]
  },
  {
   "cell_type": "markdown",
   "id": "31345891-3d52-4e13-8999-cdc23dc91697",
   "metadata": {},
   "source": [
    "## Author\n",
    "Tanat Metmaolee"
   ]
  }
 ],
 "metadata": {
  "kernelspec": {
   "display_name": "Python 3 (ipykernel)",
   "language": "python",
   "name": "python3"
  },
  "language_info": {
   "codemirror_mode": {
    "name": "ipython",
    "version": 3
   },
   "file_extension": ".py",
   "mimetype": "text/x-python",
   "name": "python",
   "nbconvert_exporter": "python",
   "pygments_lexer": "ipython3",
   "version": "3.12.8"
  }
 },
 "nbformat": 4,
 "nbformat_minor": 5
}
